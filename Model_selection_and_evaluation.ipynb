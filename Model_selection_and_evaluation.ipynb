{
 "cells": [
  {
   "cell_type": "code",
   "execution_count": 85,
   "metadata": {
    "collapsed": true
   },
   "outputs": [],
   "source": [
    "import pandas as pd\n",
    "import numpy as np\n",
    "from sklearn.model_selection import *\n",
    "pd.set_option('max_row',1000)"
   ]
  },
  {
   "cell_type": "markdown",
   "metadata": {},
   "source": [
    "## train_test_split"
   ]
  },
  {
   "cell_type": "code",
   "execution_count": 161,
   "metadata": {},
   "outputs": [
    {
     "name": "stdout",
     "output_type": "stream",
     "text": [
      "X:  [0 1 2 3 4 5 6 7 8 9]\n",
      "Y:  [0 0 0 0 0 0 1 1 1 1]\n",
      "Train data:  [0 1 2 3 4 5] Train label [0 0 0 0 0 0]\n",
      "Test data:  [6 7 8 9] Test label [1 1 1 1]\n"
     ]
    }
   ],
   "source": [
    "X = np.array(range(10))\n",
    "Y = np.array([0]*6+[1]*4)\n",
    "print('X: ', X)\n",
    "print('Y: ', Y)\n",
    "X_train, X_test, y_train, y_test = train_test_split(X, Y, test_size=0.33, shuffle=False)\n",
    "print('Train data: ',X_train, 'Train label',y_train)\n",
    "print('Test data: ',X_test, 'Test label',y_test)"
   ]
  },
  {
   "cell_type": "code",
   "execution_count": 169,
   "metadata": {},
   "outputs": [
    {
     "name": "stdout",
     "output_type": "stream",
     "text": [
      "X:  [0 1 2 3 4 5 6 7 8 9]\n",
      "Y:  [0 0 0 0 0 0 1 1 1 1]\n",
      "Train data:  [2 5 1 7 0 4] Train label [0 0 0 1 0 0]\n",
      "Test data:  [3 9 6 8] Test label [0 1 1 1]\n"
     ]
    }
   ],
   "source": [
    "X = np.array(range(10))\n",
    "Y = np.array([0]*6+[1]*4)\n",
    "print('X: ', X)\n",
    "print('Y: ', Y)\n",
    "X_train, X_test, y_train, y_test = train_test_split(X, Y, test_size=0.33, shuffle=True, random_state=43)\n",
    "print('Train data: ',X_train, 'Train label',y_train)\n",
    "print('Test data: ',X_test, 'Test label',y_test)"
   ]
  },
  {
   "cell_type": "code",
   "execution_count": 170,
   "metadata": {},
   "outputs": [
    {
     "name": "stdout",
     "output_type": "stream",
     "text": [
      "X:  [0 1 2 3 4 5 6 7 8 9]\n",
      "Y:  [0 0 0 0 0 0 1 1 1 1]\n",
      "Train data:  [7 5 1 9 3 2] Train label [1 0 0 1 0 0]\n",
      "Test data:  [8 4 0 6] Test label [1 0 0 1]\n"
     ]
    }
   ],
   "source": [
    "X = np.array(range(10))\n",
    "Y = np.array([0]*6+[1]*4)\n",
    "print('X: ', X)\n",
    "print('Y: ', Y)\n",
    "X_train, X_test, y_train, y_test = train_test_split(X, Y, test_size=0.33, shuffle=True, random_state=43, stratify=Y)\n",
    "print('Train data: ',X_train, 'Train label',y_train)\n",
    "print('Test data: ',X_test, 'Test label',y_test)"
   ]
  },
  {
   "cell_type": "markdown",
   "metadata": {},
   "source": [
    "## ShuffleSplit(BaseShuffleSplit)"
   ]
  },
  {
   "cell_type": "code",
   "execution_count": 172,
   "metadata": {},
   "outputs": [
    {
     "name": "stdout",
     "output_type": "stream",
     "text": [
      "X:  [0 1 2 3 4 5 6 7 8 9]\n",
      "Y:  [0 0 0 0 0 0 1 1 1 1]\n",
      "Number of data split:  10\n",
      "TRAIN index: [2 5 1 7 0 4] TEST index: [3 9 6 8]\n",
      "Train data:  [2 5 1 7 0 4] Train label [0 0 0 1 0 0]\n",
      "Test data:  [3 9 6 8] Test label [0 1 1 1]\n"
     ]
    }
   ],
   "source": [
    "X = np.array(range(10))\n",
    "Y = np.array([0]*6+[1]*4)\n",
    "print('X: ', X)\n",
    "print('Y: ', Y)\n",
    "ss = ShuffleSplit(test_size=0.33, random_state=43)\n",
    "print('Number of data split: ', ss.get_n_splits(X))\n",
    "train_index, test_index = next(ss.split(X))\n",
    "print(\"TRAIN index:\", train_index, \"TEST index:\", test_index)\n",
    "X_train, X_test = X[train_index], X[test_index]\n",
    "y_train, y_test = Y[train_index], Y[test_index]\n",
    "print('Train data: ',X_train, 'Train label',y_train)\n",
    "print('Test data: ',X_test, 'Test label',y_test)"
   ]
  },
  {
   "cell_type": "markdown",
   "metadata": {},
   "source": [
    "## StratifiedShuffleSplit(BaseShuffleSplit)"
   ]
  },
  {
   "cell_type": "code",
   "execution_count": 174,
   "metadata": {},
   "outputs": [
    {
     "name": "stdout",
     "output_type": "stream",
     "text": [
      "X:  [0 1 2 3 4 5 6 7 8 9]\n",
      "Y:  [0 0 0 0 0 0 1 1 1 1]\n",
      "Number of data split:  10\n",
      "TRAIN index: [7 5 1 9 3 2] TEST index: [8 4 0 6]\n",
      "Train data:  [7 5 1 9 3 2] Train label [1 0 0 1 0 0]\n",
      "Test data:  [8 4 0 6] Test label [1 0 0 1]\n"
     ]
    }
   ],
   "source": [
    "X = np.array(range(10))\n",
    "Y = np.array([0]*6+[1]*4)\n",
    "print('X: ', X)\n",
    "print('Y: ', Y)\n",
    "sss = StratifiedShuffleSplit(test_size=0.33, random_state=43)\n",
    "print('Number of data split: ', sss.get_n_splits(X))\n",
    "train_index, test_index = next(sss.split(X, Y))\n",
    "print(\"TRAIN index:\", train_index, \"TEST index:\", test_index)\n",
    "X_train, X_test = X[train_index], X[test_index]\n",
    "y_train, y_test = Y[train_index], Y[test_index]\n",
    "print('Train data: ',X_train, 'Train label',y_train)\n",
    "print('Test data: ',X_test, 'Test label',y_test)"
   ]
  },
  {
   "cell_type": "markdown",
   "metadata": {},
   "source": [
    "## GroupShuffleSplit(ShuffleSplit)"
   ]
  },
  {
   "cell_type": "code",
   "execution_count": null,
   "metadata": {
    "collapsed": true
   },
   "outputs": [],
   "source": []
  },
  {
   "cell_type": "code",
   "execution_count": null,
   "metadata": {
    "collapsed": true
   },
   "outputs": [],
   "source": []
  },
  {
   "cell_type": "code",
   "execution_count": null,
   "metadata": {
    "collapsed": true
   },
   "outputs": [],
   "source": []
  },
  {
   "cell_type": "code",
   "execution_count": null,
   "metadata": {
    "collapsed": true
   },
   "outputs": [],
   "source": []
  },
  {
   "cell_type": "markdown",
   "metadata": {},
   "source": [
    "## LeaveOneOut"
   ]
  },
  {
   "cell_type": "code",
   "execution_count": 98,
   "metadata": {},
   "outputs": [
    {
     "name": "stdout",
     "output_type": "stream",
     "text": [
      "X:  [0 1 2 3 4 5 6 7 8 9]\n",
      "Y:  [1 1 1 1 1 0 0 0 0 0]\n",
      "Number of data split:  10\n",
      "TRAIN index: [1 2 3 4 5 6 7 8 9] TEST index: [0]\n",
      "Train data:  [1 2 3 4 5 6 7 8 9] Train label [1 1 1 1 0 0 0 0 0]\n",
      "Test data:  [0] Test label [1]\n",
      "TRAIN index: [0 2 3 4 5 6 7 8 9] TEST index: [1]\n",
      "Train data:  [0 2 3 4 5 6 7 8 9] Train label [1 1 1 1 0 0 0 0 0]\n",
      "Test data:  [1] Test label [1]\n",
      "TRAIN index: [0 1 3 4 5 6 7 8 9] TEST index: [2]\n",
      "Train data:  [0 1 3 4 5 6 7 8 9] Train label [1 1 1 1 0 0 0 0 0]\n",
      "Test data:  [2] Test label [1]\n",
      "TRAIN index: [0 1 2 4 5 6 7 8 9] TEST index: [3]\n",
      "Train data:  [0 1 2 4 5 6 7 8 9] Train label [1 1 1 1 0 0 0 0 0]\n",
      "Test data:  [3] Test label [1]\n",
      "TRAIN index: [0 1 2 3 5 6 7 8 9] TEST index: [4]\n",
      "Train data:  [0 1 2 3 5 6 7 8 9] Train label [1 1 1 1 0 0 0 0 0]\n",
      "Test data:  [4] Test label [1]\n",
      "TRAIN index: [0 1 2 3 4 6 7 8 9] TEST index: [5]\n",
      "Train data:  [0 1 2 3 4 6 7 8 9] Train label [1 1 1 1 1 0 0 0 0]\n",
      "Test data:  [5] Test label [0]\n",
      "TRAIN index: [0 1 2 3 4 5 7 8 9] TEST index: [6]\n",
      "Train data:  [0 1 2 3 4 5 7 8 9] Train label [1 1 1 1 1 0 0 0 0]\n",
      "Test data:  [6] Test label [0]\n",
      "TRAIN index: [0 1 2 3 4 5 6 8 9] TEST index: [7]\n",
      "Train data:  [0 1 2 3 4 5 6 8 9] Train label [1 1 1 1 1 0 0 0 0]\n",
      "Test data:  [7] Test label [0]\n",
      "TRAIN index: [0 1 2 3 4 5 6 7 9] TEST index: [8]\n",
      "Train data:  [0 1 2 3 4 5 6 7 9] Train label [1 1 1 1 1 0 0 0 0]\n",
      "Test data:  [8] Test label [0]\n",
      "TRAIN index: [0 1 2 3 4 5 6 7 8] TEST index: [9]\n",
      "Train data:  [0 1 2 3 4 5 6 7 8] Train label [1 1 1 1 1 0 0 0 0]\n",
      "Test data:  [9] Test label [0]\n"
     ]
    }
   ],
   "source": [
    "X = np.array(range(10))\n",
    "Y = np.array([1]*5+[0]*5)\n",
    "print('X: ', X)\n",
    "print('Y: ', Y)\n",
    "loo = LeaveOneOut()\n",
    "print('Number of data split: ', loo.get_n_splits(X))\n",
    "for train_index, test_index in loo.split(X):\n",
    "    print(\"TRAIN index:\", train_index, \"TEST index:\", test_index)\n",
    "    X_train, X_test = X[train_index], X[test_index]\n",
    "    y_train, y_test = Y[train_index], Y[test_index]\n",
    "    print('Train data: ',X_train, 'Train label',y_train)\n",
    "    print('Test data: ',X_test, 'Test label',y_test)"
   ]
  },
  {
   "cell_type": "markdown",
   "metadata": {},
   "source": [
    "## LeavePOut"
   ]
  },
  {
   "cell_type": "code",
   "execution_count": 99,
   "metadata": {
    "scrolled": true
   },
   "outputs": [
    {
     "name": "stdout",
     "output_type": "stream",
     "text": [
      "X:  [0 1 2 3 4 5 6 7 8 9]\n",
      "Y:  [1 1 1 1 1 0 0 0 0 0]\n",
      "Number of data split:  45\n",
      "TRAIN index: [2 3 4 5 6 7 8 9] TEST index: [0 1]\n",
      "Train data:  [2 3 4 5 6 7 8 9] Train label [1 1 1 0 0 0 0 0]\n",
      "Test data:  [0 1] Test label [1 1]\n",
      "TRAIN index: [1 3 4 5 6 7 8 9] TEST index: [0 2]\n",
      "Train data:  [1 3 4 5 6 7 8 9] Train label [1 1 1 0 0 0 0 0]\n",
      "Test data:  [0 2] Test label [1 1]\n",
      "TRAIN index: [1 2 4 5 6 7 8 9] TEST index: [0 3]\n",
      "Train data:  [1 2 4 5 6 7 8 9] Train label [1 1 1 0 0 0 0 0]\n",
      "Test data:  [0 3] Test label [1 1]\n",
      "TRAIN index: [1 2 3 5 6 7 8 9] TEST index: [0 4]\n",
      "Train data:  [1 2 3 5 6 7 8 9] Train label [1 1 1 0 0 0 0 0]\n",
      "Test data:  [0 4] Test label [1 1]\n",
      "TRAIN index: [1 2 3 4 6 7 8 9] TEST index: [0 5]\n",
      "Train data:  [1 2 3 4 6 7 8 9] Train label [1 1 1 1 0 0 0 0]\n",
      "Test data:  [0 5] Test label [1 0]\n",
      "TRAIN index: [1 2 3 4 5 7 8 9] TEST index: [0 6]\n",
      "Train data:  [1 2 3 4 5 7 8 9] Train label [1 1 1 1 0 0 0 0]\n",
      "Test data:  [0 6] Test label [1 0]\n",
      "TRAIN index: [1 2 3 4 5 6 8 9] TEST index: [0 7]\n",
      "Train data:  [1 2 3 4 5 6 8 9] Train label [1 1 1 1 0 0 0 0]\n",
      "Test data:  [0 7] Test label [1 0]\n",
      "TRAIN index: [1 2 3 4 5 6 7 9] TEST index: [0 8]\n",
      "Train data:  [1 2 3 4 5 6 7 9] Train label [1 1 1 1 0 0 0 0]\n",
      "Test data:  [0 8] Test label [1 0]\n",
      "TRAIN index: [1 2 3 4 5 6 7 8] TEST index: [0 9]\n",
      "Train data:  [1 2 3 4 5 6 7 8] Train label [1 1 1 1 0 0 0 0]\n",
      "Test data:  [0 9] Test label [1 0]\n",
      "TRAIN index: [0 3 4 5 6 7 8 9] TEST index: [1 2]\n",
      "Train data:  [0 3 4 5 6 7 8 9] Train label [1 1 1 0 0 0 0 0]\n",
      "Test data:  [1 2] Test label [1 1]\n",
      "TRAIN index: [0 2 4 5 6 7 8 9] TEST index: [1 3]\n",
      "Train data:  [0 2 4 5 6 7 8 9] Train label [1 1 1 0 0 0 0 0]\n",
      "Test data:  [1 3] Test label [1 1]\n",
      "TRAIN index: [0 2 3 5 6 7 8 9] TEST index: [1 4]\n",
      "Train data:  [0 2 3 5 6 7 8 9] Train label [1 1 1 0 0 0 0 0]\n",
      "Test data:  [1 4] Test label [1 1]\n",
      "TRAIN index: [0 2 3 4 6 7 8 9] TEST index: [1 5]\n",
      "Train data:  [0 2 3 4 6 7 8 9] Train label [1 1 1 1 0 0 0 0]\n",
      "Test data:  [1 5] Test label [1 0]\n",
      "TRAIN index: [0 2 3 4 5 7 8 9] TEST index: [1 6]\n",
      "Train data:  [0 2 3 4 5 7 8 9] Train label [1 1 1 1 0 0 0 0]\n",
      "Test data:  [1 6] Test label [1 0]\n",
      "TRAIN index: [0 2 3 4 5 6 8 9] TEST index: [1 7]\n",
      "Train data:  [0 2 3 4 5 6 8 9] Train label [1 1 1 1 0 0 0 0]\n",
      "Test data:  [1 7] Test label [1 0]\n",
      "TRAIN index: [0 2 3 4 5 6 7 9] TEST index: [1 8]\n",
      "Train data:  [0 2 3 4 5 6 7 9] Train label [1 1 1 1 0 0 0 0]\n",
      "Test data:  [1 8] Test label [1 0]\n",
      "TRAIN index: [0 2 3 4 5 6 7 8] TEST index: [1 9]\n",
      "Train data:  [0 2 3 4 5 6 7 8] Train label [1 1 1 1 0 0 0 0]\n",
      "Test data:  [1 9] Test label [1 0]\n",
      "TRAIN index: [0 1 4 5 6 7 8 9] TEST index: [2 3]\n",
      "Train data:  [0 1 4 5 6 7 8 9] Train label [1 1 1 0 0 0 0 0]\n",
      "Test data:  [2 3] Test label [1 1]\n",
      "TRAIN index: [0 1 3 5 6 7 8 9] TEST index: [2 4]\n",
      "Train data:  [0 1 3 5 6 7 8 9] Train label [1 1 1 0 0 0 0 0]\n",
      "Test data:  [2 4] Test label [1 1]\n",
      "TRAIN index: [0 1 3 4 6 7 8 9] TEST index: [2 5]\n",
      "Train data:  [0 1 3 4 6 7 8 9] Train label [1 1 1 1 0 0 0 0]\n",
      "Test data:  [2 5] Test label [1 0]\n",
      "TRAIN index: [0 1 3 4 5 7 8 9] TEST index: [2 6]\n",
      "Train data:  [0 1 3 4 5 7 8 9] Train label [1 1 1 1 0 0 0 0]\n",
      "Test data:  [2 6] Test label [1 0]\n",
      "TRAIN index: [0 1 3 4 5 6 8 9] TEST index: [2 7]\n",
      "Train data:  [0 1 3 4 5 6 8 9] Train label [1 1 1 1 0 0 0 0]\n",
      "Test data:  [2 7] Test label [1 0]\n",
      "TRAIN index: [0 1 3 4 5 6 7 9] TEST index: [2 8]\n",
      "Train data:  [0 1 3 4 5 6 7 9] Train label [1 1 1 1 0 0 0 0]\n",
      "Test data:  [2 8] Test label [1 0]\n",
      "TRAIN index: [0 1 3 4 5 6 7 8] TEST index: [2 9]\n",
      "Train data:  [0 1 3 4 5 6 7 8] Train label [1 1 1 1 0 0 0 0]\n",
      "Test data:  [2 9] Test label [1 0]\n",
      "TRAIN index: [0 1 2 5 6 7 8 9] TEST index: [3 4]\n",
      "Train data:  [0 1 2 5 6 7 8 9] Train label [1 1 1 0 0 0 0 0]\n",
      "Test data:  [3 4] Test label [1 1]\n",
      "TRAIN index: [0 1 2 4 6 7 8 9] TEST index: [3 5]\n",
      "Train data:  [0 1 2 4 6 7 8 9] Train label [1 1 1 1 0 0 0 0]\n",
      "Test data:  [3 5] Test label [1 0]\n",
      "TRAIN index: [0 1 2 4 5 7 8 9] TEST index: [3 6]\n",
      "Train data:  [0 1 2 4 5 7 8 9] Train label [1 1 1 1 0 0 0 0]\n",
      "Test data:  [3 6] Test label [1 0]\n",
      "TRAIN index: [0 1 2 4 5 6 8 9] TEST index: [3 7]\n",
      "Train data:  [0 1 2 4 5 6 8 9] Train label [1 1 1 1 0 0 0 0]\n",
      "Test data:  [3 7] Test label [1 0]\n",
      "TRAIN index: [0 1 2 4 5 6 7 9] TEST index: [3 8]\n",
      "Train data:  [0 1 2 4 5 6 7 9] Train label [1 1 1 1 0 0 0 0]\n",
      "Test data:  [3 8] Test label [1 0]\n",
      "TRAIN index: [0 1 2 4 5 6 7 8] TEST index: [3 9]\n",
      "Train data:  [0 1 2 4 5 6 7 8] Train label [1 1 1 1 0 0 0 0]\n",
      "Test data:  [3 9] Test label [1 0]\n",
      "TRAIN index: [0 1 2 3 6 7 8 9] TEST index: [4 5]\n",
      "Train data:  [0 1 2 3 6 7 8 9] Train label [1 1 1 1 0 0 0 0]\n",
      "Test data:  [4 5] Test label [1 0]\n",
      "TRAIN index: [0 1 2 3 5 7 8 9] TEST index: [4 6]\n",
      "Train data:  [0 1 2 3 5 7 8 9] Train label [1 1 1 1 0 0 0 0]\n",
      "Test data:  [4 6] Test label [1 0]\n",
      "TRAIN index: [0 1 2 3 5 6 8 9] TEST index: [4 7]\n",
      "Train data:  [0 1 2 3 5 6 8 9] Train label [1 1 1 1 0 0 0 0]\n",
      "Test data:  [4 7] Test label [1 0]\n",
      "TRAIN index: [0 1 2 3 5 6 7 9] TEST index: [4 8]\n",
      "Train data:  [0 1 2 3 5 6 7 9] Train label [1 1 1 1 0 0 0 0]\n",
      "Test data:  [4 8] Test label [1 0]\n",
      "TRAIN index: [0 1 2 3 5 6 7 8] TEST index: [4 9]\n",
      "Train data:  [0 1 2 3 5 6 7 8] Train label [1 1 1 1 0 0 0 0]\n",
      "Test data:  [4 9] Test label [1 0]\n",
      "TRAIN index: [0 1 2 3 4 7 8 9] TEST index: [5 6]\n",
      "Train data:  [0 1 2 3 4 7 8 9] Train label [1 1 1 1 1 0 0 0]\n",
      "Test data:  [5 6] Test label [0 0]\n",
      "TRAIN index: [0 1 2 3 4 6 8 9] TEST index: [5 7]\n",
      "Train data:  [0 1 2 3 4 6 8 9] Train label [1 1 1 1 1 0 0 0]\n",
      "Test data:  [5 7] Test label [0 0]\n",
      "TRAIN index: [0 1 2 3 4 6 7 9] TEST index: [5 8]\n",
      "Train data:  [0 1 2 3 4 6 7 9] Train label [1 1 1 1 1 0 0 0]\n",
      "Test data:  [5 8] Test label [0 0]\n",
      "TRAIN index: [0 1 2 3 4 6 7 8] TEST index: [5 9]\n",
      "Train data:  [0 1 2 3 4 6 7 8] Train label [1 1 1 1 1 0 0 0]\n",
      "Test data:  [5 9] Test label [0 0]\n",
      "TRAIN index: [0 1 2 3 4 5 8 9] TEST index: [6 7]\n",
      "Train data:  [0 1 2 3 4 5 8 9] Train label [1 1 1 1 1 0 0 0]\n",
      "Test data:  [6 7] Test label [0 0]\n",
      "TRAIN index: [0 1 2 3 4 5 7 9] TEST index: [6 8]\n",
      "Train data:  [0 1 2 3 4 5 7 9] Train label [1 1 1 1 1 0 0 0]\n",
      "Test data:  [6 8] Test label [0 0]\n",
      "TRAIN index: [0 1 2 3 4 5 7 8] TEST index: [6 9]\n",
      "Train data:  [0 1 2 3 4 5 7 8] Train label [1 1 1 1 1 0 0 0]\n",
      "Test data:  [6 9] Test label [0 0]\n",
      "TRAIN index: [0 1 2 3 4 5 6 9] TEST index: [7 8]\n",
      "Train data:  [0 1 2 3 4 5 6 9] Train label [1 1 1 1 1 0 0 0]\n",
      "Test data:  [7 8] Test label [0 0]\n",
      "TRAIN index: [0 1 2 3 4 5 6 8] TEST index: [7 9]\n",
      "Train data:  [0 1 2 3 4 5 6 8] Train label [1 1 1 1 1 0 0 0]\n",
      "Test data:  [7 9] Test label [0 0]\n",
      "TRAIN index: [0 1 2 3 4 5 6 7] TEST index: [8 9]\n",
      "Train data:  [0 1 2 3 4 5 6 7] Train label [1 1 1 1 1 0 0 0]\n",
      "Test data:  [8 9] Test label [0 0]\n"
     ]
    }
   ],
   "source": [
    "X = np.array(range(10))\n",
    "Y = np.array([1]*5+[0]*5)\n",
    "print('X: ', X)\n",
    "print('Y: ', Y)\n",
    "lpo = LeavePOut(2)\n",
    "print('Number of data split: ', lpo.get_n_splits(X))\n",
    "for train_index, test_index in lpo.split(X):\n",
    "    print(\"TRAIN index:\", train_index, \"TEST index:\", test_index)\n",
    "    X_train, X_test = X[train_index], X[test_index]\n",
    "    y_train, y_test = Y[train_index], Y[test_index]\n",
    "    print('Train data: ',X_train, 'Train label',y_train)\n",
    "    print('Test data: ',X_test, 'Test label',y_test)"
   ]
  },
  {
   "cell_type": "markdown",
   "metadata": {},
   "source": [
    "## KFold"
   ]
  },
  {
   "cell_type": "code",
   "execution_count": 105,
   "metadata": {
    "scrolled": false
   },
   "outputs": [
    {
     "name": "stdout",
     "output_type": "stream",
     "text": [
      "X:  [ 0  1  2  3  4  5  6  7  8  9 10 11 12 13 14]\n",
      "Y:  [0 0 0 0 0 1 1 1 1 1 2 2 2 2 2]\n",
      "Number of data split:  5\n",
      "TRAIN index: [ 3  4  5  6  7  8  9 10 11 12 13 14] TEST index: [0 1 2]\n",
      "Train data:  [ 3  4  5  6  7  8  9 10 11 12 13 14] Train label [0 0 1 1 1 1 1 2 2 2 2 2]\n",
      "Test data:  [0 1 2] Test label [0 0 0]\n",
      "TRAIN index: [ 0  1  2  6  7  8  9 10 11 12 13 14] TEST index: [3 4 5]\n",
      "Train data:  [ 0  1  2  6  7  8  9 10 11 12 13 14] Train label [0 0 0 1 1 1 1 2 2 2 2 2]\n",
      "Test data:  [3 4 5] Test label [0 0 1]\n",
      "TRAIN index: [ 0  1  2  3  4  5  9 10 11 12 13 14] TEST index: [6 7 8]\n",
      "Train data:  [ 0  1  2  3  4  5  9 10 11 12 13 14] Train label [0 0 0 0 0 1 1 2 2 2 2 2]\n",
      "Test data:  [6 7 8] Test label [1 1 1]\n",
      "TRAIN index: [ 0  1  2  3  4  5  6  7  8 12 13 14] TEST index: [ 9 10 11]\n",
      "Train data:  [ 0  1  2  3  4  5  6  7  8 12 13 14] Train label [0 0 0 0 0 1 1 1 1 2 2 2]\n",
      "Test data:  [ 9 10 11] Test label [1 2 2]\n",
      "TRAIN index: [ 0  1  2  3  4  5  6  7  8  9 10 11] TEST index: [12 13 14]\n",
      "Train data:  [ 0  1  2  3  4  5  6  7  8  9 10 11] Train label [0 0 0 0 0 1 1 1 1 1 2 2]\n",
      "Test data:  [12 13 14] Test label [2 2 2]\n"
     ]
    }
   ],
   "source": [
    "X = np.array(range(15))\n",
    "Y = np.array([0]*5+[1]*5+[2]*5)\n",
    "print('X: ', X)\n",
    "print('Y: ', Y)\n",
    "kf = KFold(n_splits=5)\n",
    "print('Number of data split: ', lpo.get_n_splits(X))\n",
    "for train_index, test_index in kf.split(X):\n",
    "    print(\"TRAIN index:\", train_index, \"TEST index:\", test_index)\n",
    "    X_train, X_test = X[train_index], X[test_index]\n",
    "    y_train, y_test = Y[train_index], Y[test_index]\n",
    "    print('Train data: ',X_train, 'Train label',y_train)\n",
    "    print('Test data: ',X_test, 'Test label',y_test)"
   ]
  },
  {
   "cell_type": "code",
   "execution_count": 106,
   "metadata": {},
   "outputs": [
    {
     "name": "stdout",
     "output_type": "stream",
     "text": [
      "X:  [ 0  1  2  3  4  5  6  7  8  9 10 11 12 13 14]\n",
      "Y:  [0 0 0 0 0 1 1 1 1 1 2 2 2 2 2]\n",
      "Number of data split:  5\n",
      "TRAIN index: [ 1  2  3  4  5  6  7  8 10 12 13 14] TEST index: [ 0  9 11]\n",
      "Train data:  [ 1  2  3  4  5  6  7  8 10 12 13 14] Train label [0 0 0 0 1 1 1 1 2 2 2 2]\n",
      "Test data:  [ 0  9 11] Test label [0 1 2]\n",
      "TRAIN index: [ 0  1  2  3  4  6  7  9 10 11 12 14] TEST index: [ 5  8 13]\n",
      "Train data:  [ 0  1  2  3  4  6  7  9 10 11 12 14] Train label [0 0 0 0 0 1 1 1 2 2 2 2]\n",
      "Test data:  [ 5  8 13] Test label [1 1 2]\n",
      "TRAIN index: [ 0  3  4  5  6  7  8  9 10 11 12 13] TEST index: [ 1  2 14]\n",
      "Train data:  [ 0  3  4  5  6  7  8  9 10 11 12 13] Train label [0 0 0 1 1 1 1 1 2 2 2 2]\n",
      "Test data:  [ 1  2 14] Test label [0 0 2]\n",
      "TRAIN index: [ 0  1  2  3  5  6  8  9 11 12 13 14] TEST index: [ 4  7 10]\n",
      "Train data:  [ 0  1  2  3  5  6  8  9 11 12 13 14] Train label [0 0 0 0 1 1 1 1 2 2 2 2]\n",
      "Test data:  [ 4  7 10] Test label [0 1 2]\n",
      "TRAIN index: [ 0  1  2  4  5  7  8  9 10 11 13 14] TEST index: [ 3  6 12]\n",
      "Train data:  [ 0  1  2  4  5  7  8  9 10 11 13 14] Train label [0 0 0 0 1 1 1 1 2 2 2 2]\n",
      "Test data:  [ 3  6 12] Test label [0 1 2]\n"
     ]
    }
   ],
   "source": [
    "X = np.array(range(15))\n",
    "Y = np.array([0]*5+[1]*5+[2]*5)\n",
    "print('X: ', X)\n",
    "print('Y: ', Y)\n",
    "kf = KFold(n_splits=5, shuffle=True, random_state=42)\n",
    "print('Number of data split: ', lpo.get_n_splits(X))\n",
    "for train_index, test_index in kf.split(X):\n",
    "    print(\"TRAIN index:\", train_index, \"TEST index:\", test_index)\n",
    "    X_train, X_test = X[train_index], X[test_index]\n",
    "    y_train, y_test = Y[train_index], Y[test_index]\n",
    "    print('Train data: ',X_train, 'Train label',y_train)\n",
    "    print('Test data: ',X_test, 'Test label',y_test)"
   ]
  },
  {
   "cell_type": "markdown",
   "metadata": {},
   "source": [
    "## GroupKFold"
   ]
  },
  {
   "cell_type": "code",
   "execution_count": 125,
   "metadata": {
    "scrolled": false
   },
   "outputs": [
    {
     "name": "stdout",
     "output_type": "stream",
     "text": [
      "X:  [ 0  1  2  3  4  5  6  7  8  9 10 11 12 13 14]\n",
      "Y:  [0 1 2 0 1 2 0 1 2 0 0 1 0 1 0]\n",
      "Groups:  [0 1 2 3 0 1 2 3 0 1 3 3 3 3 3]\n",
      "Number of data split:  4\n",
      "TRAIN index: [0 1 2 4 5 6 8 9] TEST index: [ 3  7 10 11 12 13 14]\n",
      "Train data:  [0 1 2 4 5 6 8 9] \n",
      "Train label [0 1 2 1 2 0 2 0] \n",
      "Train group [0 1 2 0 1 2 0 1]\n",
      "Test data:  [ 3  7 10 11 12 13 14] \n",
      "Test label [0 1 0 1 0 1 0] \n",
      "Test group [3 3 3 3 3 3 3]\n",
      "TRAIN index: [ 0  2  3  4  6  7  8 10 11 12 13 14] TEST index: [1 5 9]\n",
      "Train data:  [ 0  2  3  4  6  7  8 10 11 12 13 14] \n",
      "Train label [0 2 0 1 0 1 2 0 1 0 1 0] \n",
      "Train group [0 2 3 0 2 3 0 3 3 3 3 3]\n",
      "Test data:  [1 5 9] \n",
      "Test label [1 2 0] \n",
      "Test group [1 1 1]\n",
      "TRAIN index: [ 1  2  3  5  6  7  9 10 11 12 13 14] TEST index: [0 4 8]\n",
      "Train data:  [ 1  2  3  5  6  7  9 10 11 12 13 14] \n",
      "Train label [1 2 0 2 0 1 0 0 1 0 1 0] \n",
      "Train group [1 2 3 1 2 3 1 3 3 3 3 3]\n",
      "Test data:  [0 4 8] \n",
      "Test label [0 1 2] \n",
      "Test group [0 0 0]\n",
      "TRAIN index: [ 0  1  3  4  5  7  8  9 10 11 12 13 14] TEST index: [2 6]\n",
      "Train data:  [ 0  1  3  4  5  7  8  9 10 11 12 13 14] \n",
      "Train label [0 1 0 1 2 1 2 0 0 1 0 1 0] \n",
      "Train group [0 1 3 0 1 3 0 1 3 3 3 3 3]\n",
      "Test data:  [2 6] \n",
      "Test label [2 0] \n",
      "Test group [2 2]\n"
     ]
    }
   ],
   "source": [
    "X = np.array(range(15))\n",
    "Y = np.array([x%3 for x in range(10)]+[0,1,0,1,0])\n",
    "groups = np.array([x%4 for x in range(10)] + [3]*5)\n",
    "print('X: ', X)\n",
    "print('Y: ', Y)\n",
    "print('Groups: ', groups)\n",
    "gkf = GroupKFold(n_splits=4)\n",
    "print('Number of data split: ', gkf.get_n_splits(X))\n",
    "for train_index, test_index in gkf.split(X,groups=groups):\n",
    "    print(\"TRAIN index:\", train_index, \"TEST index:\", test_index)\n",
    "    X_train, X_test = X[train_index], X[test_index]\n",
    "    y_train, y_test = Y[train_index], Y[test_index]\n",
    "    X_train_group = groups[train_index]\n",
    "    X_test_group = groups[test_index]\n",
    "    print('Train data: ',X_train, '\\nTrain label',y_train, '\\nTrain group',X_train_group)\n",
    "    print('Test data: ',X_test, '\\nTest label',y_test, '\\nTest group',X_test_group)"
   ]
  },
  {
   "cell_type": "markdown",
   "metadata": {},
   "source": [
    "## LeaveOneGroupOut"
   ]
  },
  {
   "cell_type": "code",
   "execution_count": 153,
   "metadata": {},
   "outputs": [
    {
     "name": "stdout",
     "output_type": "stream",
     "text": [
      "X:  [ 0  1  2  3  4  5  6  7  8  9 10 11 12 13 14]\n",
      "Y:  [0 1 2 0 1 2 0 1 2 0 0 1 0 1 0]\n",
      "Groups:  [0 1 2 3 0 1 2 3 0 1 3 3 3 3 3]\n",
      "Number of data split:  4\n",
      "TRAIN index: [ 1  2  3  5  6  7  9 10 11 12 13 14] TEST index: [0 4 8]\n",
      "Train data:  [ 1  2  3  5  6  7  9 10 11 12 13 14] \n",
      "Train label [1 2 0 2 0 1 0 0 1 0 1 0] \n",
      "Train group [1 2 3 1 2 3 1 3 3 3 3 3]\n",
      "Test data:  [0 4 8] \n",
      "Test label [0 1 2] \n",
      "Test group [0 0 0]\n",
      "TRAIN index: [ 0  2  3  4  6  7  8 10 11 12 13 14] TEST index: [1 5 9]\n",
      "Train data:  [ 0  2  3  4  6  7  8 10 11 12 13 14] \n",
      "Train label [0 2 0 1 0 1 2 0 1 0 1 0] \n",
      "Train group [0 2 3 0 2 3 0 3 3 3 3 3]\n",
      "Test data:  [1 5 9] \n",
      "Test label [1 2 0] \n",
      "Test group [1 1 1]\n",
      "TRAIN index: [ 0  1  3  4  5  7  8  9 10 11 12 13 14] TEST index: [2 6]\n",
      "Train data:  [ 0  1  3  4  5  7  8  9 10 11 12 13 14] \n",
      "Train label [0 1 0 1 2 1 2 0 0 1 0 1 0] \n",
      "Train group [0 1 3 0 1 3 0 1 3 3 3 3 3]\n",
      "Test data:  [2 6] \n",
      "Test label [2 0] \n",
      "Test group [2 2]\n",
      "TRAIN index: [0 1 2 4 5 6 8 9] TEST index: [ 3  7 10 11 12 13 14]\n",
      "Train data:  [0 1 2 4 5 6 8 9] \n",
      "Train label [0 1 2 1 2 0 2 0] \n",
      "Train group [0 1 2 0 1 2 0 1]\n",
      "Test data:  [ 3  7 10 11 12 13 14] \n",
      "Test label [0 1 0 1 0 1 0] \n",
      "Test group [3 3 3 3 3 3 3]\n"
     ]
    }
   ],
   "source": [
    "X = np.array(range(15))\n",
    "Y = np.array([x%3 for x in range(10)]+[0,1,0,1,0])\n",
    "groups = np.array([x%4 for x in range(10)] + [3]*5)\n",
    "print('X: ', X)\n",
    "print('Y: ', Y)\n",
    "print('Groups: ', groups)\n",
    "logo = LeaveOneGroupOut()\n",
    "print('Number of data split: ', logo.get_n_splits(groups=groups))\n",
    "for train_index, test_index in logo.split(X,Y,groups=groups):\n",
    "    print(\"TRAIN index:\", train_index, \"TEST index:\", test_index)\n",
    "    X_train, X_test = X[train_index], X[test_index]\n",
    "    y_train, y_test = Y[train_index], Y[test_index]\n",
    "    X_train_group = groups[train_index]\n",
    "    X_test_group = groups[test_index]\n",
    "    print('Train data: ',X_train, '\\nTrain label',y_train, '\\nTrain group',X_train_group)\n",
    "    print('Test data: ',X_test, '\\nTest label',y_test, '\\nTest group',X_test_group)"
   ]
  },
  {
   "cell_type": "markdown",
   "metadata": {},
   "source": [
    "## LeavePGroupsOut"
   ]
  },
  {
   "cell_type": "code",
   "execution_count": 155,
   "metadata": {},
   "outputs": [
    {
     "name": "stdout",
     "output_type": "stream",
     "text": [
      "X:  [ 0  1  2  3  4  5  6  7  8  9 10 11 12 13 14]\n",
      "Y:  [0 1 2 0 1 2 0 1 2 0 0 1 0 1 0]\n",
      "Groups:  [0 1 2 3 0 1 2 3 0 1 3 3 3 3 3]\n",
      "Number of data split:  6\n",
      "TRAIN index: [ 2  3  6  7 10 11 12 13 14] TEST index: [0 1 4 5 8 9]\n",
      "Train data:  [ 2  3  6  7 10 11 12 13 14] \n",
      "Train label [2 0 0 1 0 1 0 1 0] \n",
      "Train group [2 3 2 3 3 3 3 3 3]\n",
      "Test data:  [0 1 4 5 8 9] \n",
      "Test label [0 1 1 2 2 0] \n",
      "Test group [0 1 0 1 0 1]\n",
      "TRAIN index: [ 1  3  5  7  9 10 11 12 13 14] TEST index: [0 2 4 6 8]\n",
      "Train data:  [ 1  3  5  7  9 10 11 12 13 14] \n",
      "Train label [1 0 2 1 0 0 1 0 1 0] \n",
      "Train group [1 3 1 3 1 3 3 3 3 3]\n",
      "Test data:  [0 2 4 6 8] \n",
      "Test label [0 2 1 0 2] \n",
      "Test group [0 2 0 2 0]\n",
      "TRAIN index: [1 2 5 6 9] TEST index: [ 0  3  4  7  8 10 11 12 13 14]\n",
      "Train data:  [1 2 5 6 9] \n",
      "Train label [1 2 2 0 0] \n",
      "Train group [1 2 1 2 1]\n",
      "Test data:  [ 0  3  4  7  8 10 11 12 13 14] \n",
      "Test label [0 0 1 1 2 0 1 0 1 0] \n",
      "Test group [0 3 0 3 0 3 3 3 3 3]\n",
      "TRAIN index: [ 0  3  4  7  8 10 11 12 13 14] TEST index: [1 2 5 6 9]\n",
      "Train data:  [ 0  3  4  7  8 10 11 12 13 14] \n",
      "Train label [0 0 1 1 2 0 1 0 1 0] \n",
      "Train group [0 3 0 3 0 3 3 3 3 3]\n",
      "Test data:  [1 2 5 6 9] \n",
      "Test label [1 2 2 0 0] \n",
      "Test group [1 2 1 2 1]\n",
      "TRAIN index: [0 2 4 6 8] TEST index: [ 1  3  5  7  9 10 11 12 13 14]\n",
      "Train data:  [0 2 4 6 8] \n",
      "Train label [0 2 1 0 2] \n",
      "Train group [0 2 0 2 0]\n",
      "Test data:  [ 1  3  5  7  9 10 11 12 13 14] \n",
      "Test label [1 0 2 1 0 0 1 0 1 0] \n",
      "Test group [1 3 1 3 1 3 3 3 3 3]\n",
      "TRAIN index: [0 1 4 5 8 9] TEST index: [ 2  3  6  7 10 11 12 13 14]\n",
      "Train data:  [0 1 4 5 8 9] \n",
      "Train label [0 1 1 2 2 0] \n",
      "Train group [0 1 0 1 0 1]\n",
      "Test data:  [ 2  3  6  7 10 11 12 13 14] \n",
      "Test label [2 0 0 1 0 1 0 1 0] \n",
      "Test group [2 3 2 3 3 3 3 3 3]\n"
     ]
    }
   ],
   "source": [
    "X = np.array(range(15))\n",
    "Y = np.array([x%3 for x in range(10)]+[0,1,0,1,0])\n",
    "groups = np.array([x%4 for x in range(10)] + [3]*5)\n",
    "print('X: ', X)\n",
    "print('Y: ', Y)\n",
    "print('Groups: ', groups)\n",
    "lpgo = LeavePGroupsOut(n_groups=2)\n",
    "print('Number of data split: ', lpgo.get_n_splits(groups=groups))\n",
    "for train_index, test_index in lpgo.split(X,Y,groups=groups):\n",
    "    print(\"TRAIN index:\", train_index, \"TEST index:\", test_index)\n",
    "    X_train, X_test = X[train_index], X[test_index]\n",
    "    y_train, y_test = Y[train_index], Y[test_index]\n",
    "    X_train_group = groups[train_index]\n",
    "    X_test_group = groups[test_index]\n",
    "    print('Train data: ',X_train, '\\nTrain label',y_train, '\\nTrain group',X_train_group)\n",
    "    print('Test data: ',X_test, '\\nTest label',y_test, '\\nTest group',X_test_group)"
   ]
  },
  {
   "cell_type": "markdown",
   "metadata": {},
   "source": [
    "## StraitifiedKFold"
   ]
  },
  {
   "cell_type": "code",
   "execution_count": 133,
   "metadata": {},
   "outputs": [
    {
     "name": "stdout",
     "output_type": "stream",
     "text": [
      "X:  [ 0  1  2  3  4  5  6  7  8  9 10 11]\n",
      "Y:  [0 1 2 0 1 2 0 1 2 0 2 2]\n",
      "Number of data split:  3\n",
      "TRAIN index: [ 4  5  6  7  8  9 10 11] TEST index: [0 1 2 3]\n",
      "Train data:  [ 4  5  6  7  8  9 10 11] \n",
      "Train label [1 2 0 1 2 0 2 2]\n",
      "Test data:  [0 1 2 3] \n",
      "Test label [0 1 2 0]\n",
      "TRAIN index: [ 0  1  2  3  7  9 10 11] TEST index: [4 5 6 8]\n",
      "Train data:  [ 0  1  2  3  7  9 10 11] \n",
      "Train label [0 1 2 0 1 0 2 2]\n",
      "Test data:  [4 5 6 8] \n",
      "Test label [1 2 0 2]\n",
      "TRAIN index: [0 1 2 3 4 5 6 8] TEST index: [ 7  9 10 11]\n",
      "Train data:  [0 1 2 3 4 5 6 8] \n",
      "Train label [0 1 2 0 1 2 0 2]\n",
      "Test data:  [ 7  9 10 11] \n",
      "Test label [1 0 2 2]\n"
     ]
    }
   ],
   "source": [
    "X = np.array(range(12))\n",
    "Y = np.array([x%3 for x in range(10)]+[2,2])\n",
    "print('X: ', X)\n",
    "print('Y: ', Y)\n",
    "skf = StratifiedKFold(n_splits=3)\n",
    "print('Number of data split: ', skf.get_n_splits(X))\n",
    "for train_index, test_index in skf.split(X,Y):\n",
    "    print(\"TRAIN index:\", train_index, \"TEST index:\", test_index)\n",
    "    X_train, X_test = X[train_index], X[test_index]\n",
    "    y_train, y_test = Y[train_index], Y[test_index]\n",
    "    print('Train data: ',X_train, '\\nTrain label',y_train)\n",
    "    print('Test data: ',X_test, '\\nTest label',y_test)"
   ]
  },
  {
   "cell_type": "markdown",
   "metadata": {},
   "source": [
    "## TimeSeriesSplit"
   ]
  },
  {
   "cell_type": "code",
   "execution_count": 148,
   "metadata": {},
   "outputs": [
    {
     "name": "stdout",
     "output_type": "stream",
     "text": [
      "X:  [0 1 2 3 4 5 6 7 8 9]\n",
      "Y:  [0 1 0 1 0 1 0 1 0 1]\n",
      "Number of data split:  5\n",
      "TRAIN index: [0 1 2 3 4] TEST index: [5]\n",
      "Train data:  [0 1 2 3 4] \n",
      "Train label [0 1 0 1 0]\n",
      "Test data:  [5] \n",
      "Test label [1]\n",
      "TRAIN index: [0 1 2 3 4 5] TEST index: [6]\n",
      "Train data:  [0 1 2 3 4 5] \n",
      "Train label [0 1 0 1 0 1]\n",
      "Test data:  [6] \n",
      "Test label [0]\n",
      "TRAIN index: [0 1 2 3 4 5 6] TEST index: [7]\n",
      "Train data:  [0 1 2 3 4 5 6] \n",
      "Train label [0 1 0 1 0 1 0]\n",
      "Test data:  [7] \n",
      "Test label [1]\n",
      "TRAIN index: [0 1 2 3 4 5 6 7] TEST index: [8]\n",
      "Train data:  [0 1 2 3 4 5 6 7] \n",
      "Train label [0 1 0 1 0 1 0 1]\n",
      "Test data:  [8] \n",
      "Test label [0]\n",
      "TRAIN index: [0 1 2 3 4 5 6 7 8] TEST index: [9]\n",
      "Train data:  [0 1 2 3 4 5 6 7 8] \n",
      "Train label [0 1 0 1 0 1 0 1 0]\n",
      "Test data:  [9] \n",
      "Test label [1]\n"
     ]
    }
   ],
   "source": [
    "X = np.array(range(10))\n",
    "Y = np.array([x%2 for x in range(10)])\n",
    "print('X: ', X)\n",
    "print('Y: ', Y)\n",
    "tscv = TimeSeriesSplit(max_train_size=None,n_splits=5)\n",
    "print('Number of data split: ', tscv.get_n_splits(X))\n",
    "for train_index, test_index in tscv.split(X,Y):\n",
    "    print(\"TRAIN index:\", train_index, \"TEST index:\", test_index)\n",
    "    X_train, X_test = X[train_index], X[test_index]\n",
    "    y_train, y_test = Y[train_index], Y[test_index]\n",
    "    print('Train data: ',X_train, '\\nTrain label',y_train)\n",
    "    print('Test data: ',X_test, '\\nTest label',y_test)"
   ]
  },
  {
   "cell_type": "code",
   "execution_count": null,
   "metadata": {
    "collapsed": true
   },
   "outputs": [],
   "source": []
  },
  {
   "cell_type": "code",
   "execution_count": null,
   "metadata": {
    "collapsed": true
   },
   "outputs": [],
   "source": []
  },
  {
   "cell_type": "code",
   "execution_count": null,
   "metadata": {
    "collapsed": true
   },
   "outputs": [],
   "source": []
  },
  {
   "cell_type": "code",
   "execution_count": null,
   "metadata": {
    "collapsed": true
   },
   "outputs": [],
   "source": []
  },
  {
   "cell_type": "code",
   "execution_count": null,
   "metadata": {
    "collapsed": true
   },
   "outputs": [],
   "source": []
  },
  {
   "cell_type": "code",
   "execution_count": null,
   "metadata": {
    "collapsed": true
   },
   "outputs": [],
   "source": []
  },
  {
   "cell_type": "code",
   "execution_count": 103,
   "metadata": {},
   "outputs": [
    {
     "name": "stdout",
     "output_type": "stream",
     "text": [
      "<class 'pandas.core.frame.DataFrame'>\n",
      "RangeIndex: 842 entries, 0 to 841\n",
      "Data columns (total 10 columns):\n",
      "HGB                 748 non-null float64\n",
      "HGB_level           748 non-null object\n",
      "Platelet Counts     750 non-null float64\n",
      "Platelet_level      750 non-null object\n",
      "WBC Count           748 non-null float64\n",
      "WBC_level           748 non-null object\n",
      "Neutrophil Count    748 non-null float64\n",
      "Neutrophil_level    748 non-null object\n",
      "Lymphocyte Count    748 non-null float64\n",
      "Lymphocyte_level    748 non-null object\n",
      "dtypes: float64(5), object(5)\n",
      "memory usage: 65.9+ KB\n"
     ]
    }
   ],
   "source": [
    "# data = pd.read_csv('/home/david/Downloads/CS1001-301_7196.csv')\n",
    "# filtered = {\n",
    "#     'HGB': {'1':[10000,10],'2':[10,8],'3':[8,-100]},\n",
    "#     'Platelet Counts' : {'1':[100000,75], '2':[75,50],'3':[50,25], '4':[25,-1000]},\n",
    "#     'WBC Count' : {'1':[10,3],'2':[3,2], '3':[2,1], '4':[1,-10], '3_1':[100000,10]},\n",
    "#     'Neutrophil Count': {'1':[100,1.5],'2':[1.5,1],'3':[1,0.5],'4':[0.5,-10]},\n",
    "#     'Lymphocyte Count':{'1':[100,0.8],'2':[0.8,0.5],'3':[0.5,0.2],'4':[0.2, -10]}\n",
    "# }\n",
    "# def label_level(d, col):\n",
    "#     if d == np.nan:\n",
    "#         return d\n",
    "#     if col in filtered:\n",
    "#         cat = filtered[col]\n",
    "#         for k, v in cat.items():\n",
    "#             if d >= v[1] and d < v[0]:\n",
    "#                 return k\n",
    "#         return np.nan\n",
    "#     else:\n",
    "#         return d\n",
    "# data['HGB_level'] = data.apply(lambda x : label_level(x.HGB, 'HGB'), axis=1)\n",
    "# data['Platelet_level'] = data.apply(lambda x : label_level(x['Platelet Counts'], 'Platelet Counts'), axis=1)\n",
    "# data['WBC_level'] = data.apply(lambda x : label_level(x['WBC Count'], 'WBC Count'), axis=1)\n",
    "# data['Neutrophil_level'] = data.apply(lambda x : label_level(x['Neutrophil Count'], 'Neutrophil Count'), axis=1)\n",
    "# data['Lymphocyte_level'] = data.apply(lambda x : label_level(x['Lymphocyte Count'], 'Lymphocyte Count'), axis=1)\n",
    "# data[['HGB','HGB_level','Platelet Counts','Platelet_level','WBC Count','WBC_level','Neutrophil Count','Neutrophil_level','Lymphocyte Count','Lymphocyte_level']].info()\n",
    "# data.to_csv('/home/david/Downloads/CS1001-301_7196_labeled.csv')"
   ]
  }
 ],
 "metadata": {
  "kernelspec": {
   "display_name": "Python 3.6.0 64-bit ('tf1.14py3.6': conda)",
   "language": "python",
   "name": "python36064bittf114py36conda146946f58b0946d68d62ddfb4e003ae5"
  },
  "language_info": {
   "codemirror_mode": {
    "name": "ipython",
    "version": 3
   },
   "file_extension": ".py",
   "mimetype": "text/x-python",
   "name": "python",
   "nbconvert_exporter": "python",
   "pygments_lexer": "ipython3",
   "version": "3.6.0"
  }
 },
 "nbformat": 4,
 "nbformat_minor": 2
}
